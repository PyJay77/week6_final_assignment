{
 "cells": [
  {
   "cell_type": "markdown",
   "id": "8a42ea06-345f-4b6c-a138-51bf0aadb398",
   "metadata": {},
   "source": [
    "# Data Science Tools"
   ]
  },
  {
   "cell_type": "markdown",
   "id": "b3f16f54-2ab3-4c1f-ab5d-fce1501e3ffb",
   "metadata": {},
   "source": [
    "In this notebook, Data Science Tools and Ecosystem are summarized"
   ]
  },
  {
   "cell_type": "markdown",
   "id": "d86b622b-bda9-421e-aef8-fd983503432b",
   "metadata": {},
   "source": [
    "__Objectives:__\n",
    "- List popular languages for Data Science\n",
    "- List popular libraries for Data Science\n",
    "- List open source tools for Data Science\n",
    "- Arithmetic expression in Python"
   ]
  },
  {
   "cell_type": "markdown",
   "id": "0670c79b-877e-45b9-b8f0-13fe0bdffebc",
   "metadata": {},
   "source": [
    "Some of the popular languages that Data Scientists use are:\n",
    "1. Python\n",
    "2. R\n",
    "3. C++\n",
    "4. JavaScript"
   ]
  },
  {
   "cell_type": "markdown",
   "id": "50702988-9dae-4127-9e25-4f597c5914c6",
   "metadata": {
    "tags": []
   },
   "source": [
    "Some of the commonly used libraries used by Data Scientists include:\n",
    "1. Numpy\n",
    "2. Pandas\n",
    "3. MatplotLib"
   ]
  },
  {
   "cell_type": "markdown",
   "id": "4d428013-724e-4dad-b4c9-672e84bd0c6d",
   "metadata": {},
   "source": [
    "|Data Science Tools|\n",
    "|------------------|\n",
    "|Kibana|\n",
    "|PixieDust|\n",
    "|UE|"
   ]
  },
  {
   "cell_type": "markdown",
   "id": "c6ae1c5a-3b9e-46be-bbc9-8b5053017f6c",
   "metadata": {},
   "source": [
    "### Below are few examples of evaluating arithmetic expressions in Python"
   ]
  },
  {
   "cell_type": "code",
   "execution_count": 2,
   "id": "99401335-4cf5-4131-ac74-993e47464196",
   "metadata": {
    "tags": []
   },
   "outputs": [
    {
     "data": {
      "text/plain": [
       "17"
      ]
     },
     "execution_count": 2,
     "metadata": {},
     "output_type": "execute_result"
    }
   ],
   "source": [
    "#This is a simple arithmetic expression to multiply and then add integers\n",
    "(3*4)+5"
   ]
  },
  {
   "cell_type": "code",
   "execution_count": 3,
   "id": "93e3b44d-19f5-4089-bfeb-b783afa54efe",
   "metadata": {
    "tags": []
   },
   "outputs": [
    {
     "name": "stdout",
     "output_type": "stream",
     "text": [
      "3.3333333333333335\n"
     ]
    }
   ],
   "source": [
    "#This will convert 200 minutes to hours by diving by 60\n",
    "minutes=200\n",
    "hours=200/60\n",
    "print(hours)"
   ]
  },
  {
   "cell_type": "markdown",
   "id": "8c3e44e5-956b-4c83-a4a8-5016b4160071",
   "metadata": {},
   "source": [
    "## Author\n",
    "Andrea"
   ]
  }
 ],
 "metadata": {
  "kernelspec": {
   "display_name": "Python",
   "language": "python",
   "name": "conda-env-python-py"
  },
  "language_info": {
   "codemirror_mode": {
    "name": "ipython",
    "version": 3
   },
   "file_extension": ".py",
   "mimetype": "text/x-python",
   "name": "python",
   "nbconvert_exporter": "python",
   "pygments_lexer": "ipython3",
   "version": "3.7.12"
  }
 },
 "nbformat": 4,
 "nbformat_minor": 5
}
